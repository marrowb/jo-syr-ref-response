{
 "cells": [
  {
   "metadata": {},
   "cell_type": "markdown",
   "source": [
    "# Fetch Jordan Activities\n",
    "Fetch all activities where Jordan is listed as either the recipient country of the aid or as a recipient country on one of the transactions within the activities. Also, fetch descriptive metadata to determine the purpose of the activity."
   ],
   "id": "b85e856e716d948d"
  },
  {
   "cell_type": "code",
   "id": "initial_id",
   "metadata": {
    "collapsed": true,
    "ExecuteTime": {
     "end_time": "2025-05-30T20:30:24.342895Z",
     "start_time": "2025-05-30T20:30:24.307303Z"
    }
   },
   "source": [
    "from lib.iati_datastore_utils import *\n",
    "from lib.util_file import *"
   ],
   "outputs": [],
   "execution_count": 2
  },
  {
   "metadata": {
    "ExecuteTime": {
     "end_time": "2025-05-30T20:35:17.588462Z",
     "start_time": "2025-05-30T20:35:17.141921Z"
    }
   },
   "cell_type": "code",
   "source": [
    "jordan_params = build_combined_query(\n",
    "    recipient_country_codes=[\"JO\"],\n",
    "    fl=[\"iati_identifier\", \"title_narrative\", \"description_narrative\", \"activity_status_code\", \"sector_code\", \"sector_narrative\", \"humanitarian_scope_type\", \"humanitarian_scope_code\", \"humanitarian_scope_narrative\",  'transaction_value', 'transaction_value_currency', 'transaction_provider_org_ref', 'transaction_value_value_date', 'transaction_provider_org_type', 'transaction_transaction_type_code', 'transaction_provider_org_narrative', 'transaction_transaction_date_iso_date'])\n",
    "\n",
    "num_results, docs = query_collection(\"activity\", jordan_params, count_only=True)\n",
    "num_results # Print Total Number of Activities\n"
   ],
   "id": "ed064cec0c2fa1f",
   "outputs": [
    {
     "data": {
      "text/plain": [
       "9187"
      ]
     },
     "execution_count": 5,
     "metadata": {},
     "output_type": "execute_result"
    }
   ],
   "execution_count": 5
  },
  {
   "metadata": {
    "ExecuteTime": {
     "end_time": "2025-05-30T20:36:42.241988Z",
     "start_time": "2025-05-30T20:36:42.240348Z"
    }
   },
   "cell_type": "code",
   "source": [
    "# Run with preview to test out the fields returned specifided in Jordan params `fl`\n",
    "# docs = query_collection(\"activity\", jordan_params, preview=True)\n",
    "# docs[1]"
   ],
   "id": "23464673a4f40564",
   "outputs": [],
   "execution_count": 7
  },
  {
   "metadata": {
    "ExecuteTime": {
     "end_time": "2025-05-30T20:39:04.161125Z",
     "start_time": "2025-05-30T20:38:10.438363Z"
    }
   },
   "cell_type": "code",
   "source": "num_results, docs = query_collection(\"activity\", jordan_params, fetch_all=True)",
   "id": "bad42ed5798d7f0c",
   "outputs": [
    {
     "name": "stdout",
     "output_type": "stream",
     "text": [
      "9187 found for query with parameters: \n",
      "{'q': '((recipient_country_code:\"JO\" OR transaction_recipient_country_code:\"JO\"))', 'wt': 'json', 'fl': 'iati_identifier,title_narrative,description_narrative,activity_status_code,sector_code,sector_narrative,humanitarian_scope_type,humanitarian_scope_code,humanitarian_scope_narrative,transaction_value,transaction_value_currency,transaction_provider_org_ref,transaction_value_value_date,transaction_provider_org_type,transaction_transaction_type_code,transaction_provider_org_narrative,transaction_transaction_date_iso_date'}\n",
      "Fetching results with offset 0\n",
      "Fetched 100 of 9187 results\n",
      "Fetching results with offset 100\n",
      "Fetched 200 of 9187 results\n",
      "Fetching results with offset 200\n",
      "Fetched 300 of 9187 results\n",
      "Fetching results with offset 300\n",
      "Fetched 400 of 9187 results\n",
      "Fetching results with offset 400\n",
      "Fetched 500 of 9187 results\n",
      "Fetching results with offset 500\n",
      "Fetched 600 of 9187 results\n",
      "Fetching results with offset 600\n",
      "Fetched 700 of 9187 results\n",
      "Fetching results with offset 700\n",
      "Fetched 800 of 9187 results\n",
      "Fetching results with offset 800\n",
      "Fetched 900 of 9187 results\n",
      "Fetching results with offset 900\n",
      "Fetched 1000 of 9187 results\n",
      "Fetching results with offset 1000\n",
      "Fetched 1100 of 9187 results\n",
      "Fetching results with offset 1100\n",
      "Fetched 1200 of 9187 results\n",
      "Fetching results with offset 1200\n",
      "Fetched 1300 of 9187 results\n",
      "Fetching results with offset 1300\n",
      "Fetched 1400 of 9187 results\n",
      "Fetching results with offset 1400\n",
      "Fetched 1500 of 9187 results\n",
      "Fetching results with offset 1500\n",
      "Fetched 1600 of 9187 results\n",
      "Fetching results with offset 1600\n",
      "Fetched 1700 of 9187 results\n",
      "Fetching results with offset 1700\n",
      "Fetched 1800 of 9187 results\n",
      "Fetching results with offset 1800\n",
      "Fetched 1900 of 9187 results\n",
      "Fetching results with offset 1900\n",
      "Fetched 2000 of 9187 results\n",
      "Fetching results with offset 2000\n",
      "Fetched 2100 of 9187 results\n",
      "Fetching results with offset 2100\n",
      "Fetched 2200 of 9187 results\n",
      "Fetching results with offset 2200\n",
      "Fetched 2300 of 9187 results\n",
      "Fetching results with offset 2300\n",
      "Fetched 2400 of 9187 results\n",
      "Fetching results with offset 2400\n",
      "Fetched 2500 of 9187 results\n",
      "Fetching results with offset 2500\n",
      "Fetched 2600 of 9187 results\n",
      "Fetching results with offset 2600\n",
      "Fetched 2700 of 9187 results\n",
      "Fetching results with offset 2700\n",
      "Fetched 2800 of 9187 results\n",
      "Fetching results with offset 2800\n",
      "Fetched 2900 of 9187 results\n",
      "Fetching results with offset 2900\n",
      "Fetched 3000 of 9187 results\n",
      "Fetching results with offset 3000\n",
      "Fetched 3100 of 9187 results\n",
      "Fetching results with offset 3100\n",
      "Fetched 3200 of 9187 results\n",
      "Fetching results with offset 3200\n",
      "Fetched 3300 of 9187 results\n",
      "Fetching results with offset 3300\n",
      "Fetched 3400 of 9187 results\n",
      "Fetching results with offset 3400\n",
      "Fetched 3500 of 9187 results\n",
      "Fetching results with offset 3500\n",
      "Fetched 3600 of 9187 results\n",
      "Fetching results with offset 3600\n",
      "Fetched 3700 of 9187 results\n",
      "Fetching results with offset 3700\n",
      "Fetched 3800 of 9187 results\n",
      "Fetching results with offset 3800\n",
      "Fetched 3900 of 9187 results\n",
      "Fetching results with offset 3900\n",
      "Fetched 4000 of 9187 results\n",
      "Fetching results with offset 4000\n",
      "Fetched 4100 of 9187 results\n",
      "Fetching results with offset 4100\n",
      "Fetched 4200 of 9187 results\n",
      "Fetching results with offset 4200\n",
      "Fetched 4300 of 9187 results\n",
      "Fetching results with offset 4300\n",
      "Fetched 4400 of 9187 results\n",
      "Fetching results with offset 4400\n",
      "Fetched 4500 of 9187 results\n",
      "Fetching results with offset 4500\n",
      "Fetched 4600 of 9187 results\n",
      "Fetching results with offset 4600\n",
      "Fetched 4700 of 9187 results\n",
      "Fetching results with offset 4700\n",
      "Fetched 4800 of 9187 results\n",
      "Fetching results with offset 4800\n",
      "Fetched 4900 of 9187 results\n",
      "Fetching results with offset 4900\n",
      "Fetched 5000 of 9187 results\n",
      "Fetching results with offset 5000\n",
      "Fetched 5100 of 9187 results\n",
      "Fetching results with offset 5100\n",
      "Fetched 5200 of 9187 results\n",
      "Fetching results with offset 5200\n",
      "Fetched 5300 of 9187 results\n",
      "Fetching results with offset 5300\n",
      "Fetched 5400 of 9187 results\n",
      "Fetching results with offset 5400\n",
      "Fetched 5500 of 9187 results\n",
      "Fetching results with offset 5500\n",
      "Fetched 5600 of 9187 results\n",
      "Fetching results with offset 5600\n",
      "Fetched 5700 of 9187 results\n",
      "Fetching results with offset 5700\n",
      "Fetched 5800 of 9187 results\n",
      "Fetching results with offset 5800\n",
      "Fetched 5900 of 9187 results\n",
      "Fetching results with offset 5900\n",
      "Fetched 6000 of 9187 results\n",
      "Fetching results with offset 6000\n",
      "Fetched 6100 of 9187 results\n",
      "Fetching results with offset 6100\n",
      "Fetched 6200 of 9187 results\n",
      "Fetching results with offset 6200\n",
      "Fetched 6300 of 9187 results\n",
      "Fetching results with offset 6300\n",
      "Fetched 6400 of 9187 results\n",
      "Fetching results with offset 6400\n",
      "Fetched 6500 of 9187 results\n",
      "Fetching results with offset 6500\n",
      "Fetched 6600 of 9187 results\n",
      "Fetching results with offset 6600\n",
      "Fetched 6700 of 9187 results\n",
      "Fetching results with offset 6700\n",
      "Fetched 6800 of 9187 results\n",
      "Fetching results with offset 6800\n",
      "Fetched 6900 of 9187 results\n",
      "Fetching results with offset 6900\n",
      "Fetched 7000 of 9187 results\n",
      "Fetching results with offset 7000\n",
      "Fetched 7100 of 9187 results\n",
      "Fetching results with offset 7100\n",
      "Fetched 7200 of 9187 results\n",
      "Fetching results with offset 7200\n",
      "Fetched 7300 of 9187 results\n",
      "Fetching results with offset 7300\n",
      "Fetched 7400 of 9187 results\n",
      "Fetching results with offset 7400\n",
      "Fetched 7500 of 9187 results\n",
      "Fetching results with offset 7500\n",
      "Fetched 7600 of 9187 results\n",
      "Fetching results with offset 7600\n",
      "Fetched 7700 of 9187 results\n",
      "Fetching results with offset 7700\n",
      "Fetched 7800 of 9187 results\n",
      "Fetching results with offset 7800\n",
      "Fetched 7900 of 9187 results\n",
      "Fetching results with offset 7900\n",
      "Fetched 8000 of 9187 results\n",
      "Fetching results with offset 8000\n",
      "Fetched 8100 of 9187 results\n",
      "Fetching results with offset 8100\n",
      "Fetched 8200 of 9187 results\n",
      "Fetching results with offset 8200\n",
      "Fetched 8300 of 9187 results\n",
      "Fetching results with offset 8300\n",
      "Fetched 8400 of 9187 results\n",
      "Fetching results with offset 8400\n",
      "Fetched 8500 of 9187 results\n",
      "Fetching results with offset 8500\n",
      "Fetched 8600 of 9187 results\n",
      "Fetching results with offset 8600\n",
      "Fetched 8700 of 9187 results\n",
      "Fetching results with offset 8700\n",
      "Fetched 8800 of 9187 results\n",
      "Fetching results with offset 8800\n",
      "Fetched 8900 of 9187 results\n",
      "Fetching results with offset 8900\n",
      "Fetched 9000 of 9187 results\n",
      "Fetching results with offset 9000\n",
      "Fetched 9100 of 9187 results\n",
      "Fetching results with offset 9100\n",
      "Fetched 9187 of 9187 results\n"
     ]
    }
   ],
   "execution_count": 8
  },
  {
   "metadata": {
    "ExecuteTime": {
     "end_time": "2025-05-30T20:43:49.291764Z",
     "start_time": "2025-05-30T20:43:49.287605Z"
    }
   },
   "cell_type": "code",
   "source": [
    "# Ensure there is at least some narrative for each of the activities\n",
    "no_description = []\n",
    "for doc in docs:\n",
    "    if not doc.get(\"description_narrative\") and not doc.get(\"title_narrative\"):\n",
    "        no_description.append(doc)\n",
    "len(no_description)"
   ],
   "id": "409a8c3253f69e95",
   "outputs": [
    {
     "data": {
      "text/plain": [
       "0"
      ]
     },
     "execution_count": 9,
     "metadata": {},
     "output_type": "execute_result"
    }
   ],
   "execution_count": 9
  },
  {
   "metadata": {
    "ExecuteTime": {
     "end_time": "2025-05-30T20:43:54.138824Z",
     "start_time": "2025-05-30T20:43:53.116721Z"
    }
   },
   "cell_type": "code",
   "source": "write_json(docs, \"../data/iati/jordan_activities_w_transactions.json\")",
   "id": "90af20a3e58d023c",
   "outputs": [],
   "execution_count": 10
  }
 ],
 "metadata": {
  "kernelspec": {
   "display_name": "Python 3",
   "language": "python",
   "name": "python3"
  },
  "language_info": {
   "codemirror_mode": {
    "name": "ipython",
    "version": 2
   },
   "file_extension": ".py",
   "mimetype": "text/x-python",
   "name": "python",
   "nbconvert_exporter": "python",
   "pygments_lexer": "ipython2",
   "version": "2.7.6"
  }
 },
 "nbformat": 4,
 "nbformat_minor": 5
}
