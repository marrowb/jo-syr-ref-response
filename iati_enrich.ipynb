{
 "cells": [
  {
   "metadata": {},
   "cell_type": "markdown",
   "source": [
    "\n",
    "# Research Questions\n",
    "1. How much duplication was there among programming for Syrian refugees in Jordan?\n",
    "2. What fraction of aid inflows to Jordan related to refugee support and what fraction to development?\n",
    "3. Biggest shift in donors? Donors who decreased their donations the most?"
   ],
   "id": "b85e856e716d948d"
  },
  {
   "cell_type": "code",
   "id": "initial_id",
   "metadata": {
    "collapsed": true,
    "ExecuteTime": {
     "end_time": "2025-05-31T16:52:56.059852Z",
     "start_time": "2025-05-31T16:52:55.751883Z"
    }
   },
   "source": [
    "from lib.iati_datastore_utils import *\n",
    "from lib.util_file import *\n",
    "from google import genai\n",
    "from google.genai import types\n",
    "from definitions import GEMINI_API_KEY\n"
   ],
   "outputs": [],
   "execution_count": 4
  },
  {
   "metadata": {
    "ExecuteTime": {
     "end_time": "2025-05-31T16:52:58.211825Z",
     "start_time": "2025-05-31T16:52:57.252213Z"
    }
   },
   "cell_type": "code",
   "source": "jo_act = read_json(\"./data/iati/jordan_activities_w_transactions.json\")",
   "id": "90af20a3e58d023c",
   "outputs": [],
   "execution_count": 5
  },
  {
   "metadata": {
    "ExecuteTime": {
     "end_time": "2025-05-31T16:56:25.131115Z",
     "start_time": "2025-05-31T16:56:25.126903Z"
    }
   },
   "cell_type": "code",
   "source": [
    "no_sector = []\n",
    "for act in jo_act:\n",
    "    if not act.get(\"sector_code\") and not act.get(\"sector_narrative\"):\n",
    "        no_sector.append(act)\n",
    "\n",
    "len(no_sector)"
   ],
   "id": "48710f42186731b4",
   "outputs": [
    {
     "data": {
      "text/plain": [
       "3587"
      ]
     },
     "execution_count": 10,
     "metadata": {},
     "output_type": "execute_result"
    }
   ],
   "execution_count": 10
  },
  {
   "metadata": {},
   "cell_type": "markdown",
   "source": [
    "# Identify Syrian Refugee Related Programs\n",
    "Goal: Build a list of IATI identifier codes for programs at-least partially targeting Syrian refugees.\n",
    "\n",
    "## Strategies\n",
    "* Multi-lingual regular expressions - match keywords like \"Syria,\" \"Syrian Refugees,\" \"refugees from Syria\" acros multiple languages.\n",
    "* LLM assisted description/title narrative scores.\n",
    "\n",
    "## Obstacles\n",
    "* Programs may assist different refugee groups\n",
    "* Need to exclude programs assisting only Palestinian refugees, or Palestinian and Iraqi refugees, etc.\n",
    "\n",
    "## Niceties\n",
    "* Distinguish between programming in refugee camps (Za'atari, Azraq) and urban settings.\n",
    "* Extrapolate sector where sector code is not present\n",
    "\n",
    "## Fields to Add\n",
    "* reg_exp_syria_ref - 0 or 1 if there's a regular expression match\n",
    "* reg_exp_syria_camp - 0 or 1 if there's a regular expression match for Za'atari, Azraq, etc.\n",
    "* reg_exp_usaid - 0 or 1 if there's a reg exp match for USAID\n",
    "* llm_ref_group - ENUM - [\"Syria\", \"Palestine\", \"Iraq\", \"Yemen\", \"Sudan\", \"Other\"]\n",
    "* llm_ref_setting - ENUM - [\"camp\", \"urban\"]\n",
    "* llm_sector - str - llm's guess at the IATI sector codelist based on description\n",
    "* llm_nexus - ENUM - [\"humanitarian\", \"development\", \"both\"]\n",
    "* llm_orgs - List of international aid organizations involved in project."
   ],
   "id": "c0c602da874ca018"
  },
  {
   "metadata": {
    "ExecuteTime": {
     "end_time": "2025-05-31T16:51:35.116232Z",
     "start_time": "2025-05-31T16:51:35.114482Z"
    }
   },
   "cell_type": "code",
   "source": [
    "# all_narratives = []\n",
    "# for act in jo_act:\n",
    "#     act_narratives = {k:v for k,v in act.items() if \"narrative\" in k}\n",
    "#     act_narratives['iati_identifier'] = act['iati_identifier']\n",
    "#     all_narratives.append(act_narratives)\n",
    "#\n",
    "# with open(\"./data/iati/narratives.txt\", \"w\") as f:\n",
    "#     for narr in all_narratives:\n",
    "#         _id = narr.pop('iati_identifier')\n",
    "#         _title = narr.pop(\"title_narrative\")[0]\n",
    "#         sep = (\"\\n\"*2) + (\"=\" * 20) + \"\\n\"\n",
    "#         text = sep.join([k + \"\\n\" + '\\n'.join(v) for k,v in narr.items()])\n",
    "#         f.write(_id + \": \" + _title + sep + text + (sep*2))"
   ],
   "id": "b426dfb4d96f9ad3",
   "outputs": [],
   "execution_count": 1
  },
  {
   "metadata": {
    "ExecuteTime": {
     "end_time": "2025-05-30T21:23:08.548753Z",
     "start_time": "2025-05-30T21:23:08.546594Z"
    }
   },
   "cell_type": "code",
   "source": [
    "def find_by_id(iati_id: str) -> Dict:\n",
    "    matches = []\n",
    "    for act in jo_act:\n",
    "        if act['iati_identifier'] == iati_id:\n",
    "            matches.append(act)\n",
    "    return matches"
   ],
   "id": "4af4fd43c1f4c9c4",
   "outputs": [],
   "execution_count": 32
  },
  {
   "metadata": {
    "ExecuteTime": {
     "end_time": "2025-05-30T21:23:25.341094Z",
     "start_time": "2025-05-30T21:23:25.336028Z"
    }
   },
   "cell_type": "code",
   "source": "find_by_id('KR-GOV-030-1342000_2024_018')",
   "id": "27e3f1a50c81ed50",
   "outputs": [
    {
     "data": {
      "text/plain": [
       "[{'sector_code': ['11220', '11240', '11130', '11182'],\n",
       "  'iati_identifier': 'KR-GOV-030-1342000_2024_018',\n",
       "  'title_narrative': ['Bridge Programme Phase 2 (Jordan) : Strengthening literacy skills and accessibility in education of children in Jordan'],\n",
       "  'sector_narrative': ['Primary education',\n",
       "   'Early childhood education',\n",
       "   'Teacher training',\n",
       "   'Educational research'],\n",
       "  'transaction_value': [771000000.0, 771000000.0, 78000000.0],\n",
       "  'activity_status_code': '2',\n",
       "  'description_narrative': [\"Expanding a reading program for children nationwide in Jordan, training experts in children's literacy education, and hosting forums to promote literacy education among children.\"],\n",
       "  'transaction_value_currency': ['KRW', 'KRW', 'KRW'],\n",
       "  'transaction_provider_org_ref': ['KR-GOV-030', 'KR-GOV-030', 'KR-GOV-030'],\n",
       "  'transaction_value_value_date': ['2025-01-01T00:00:00Z',\n",
       "   '2025-01-01T00:00:00Z',\n",
       "   '2025-03-31T00:00:00Z'],\n",
       "  'transaction_provider_org_type': ['10', '10', '10'],\n",
       "  'transaction_transaction_type_code': ['1', '2', '3'],\n",
       "  'transaction_provider_org_narrative': ['Ministry of Education',\n",
       "   'Ministry of Education',\n",
       "   'Ministry of Education'],\n",
       "  'transaction_transaction_date_iso_date': ['2025-01-01T00:00:00Z',\n",
       "   '2025-01-01T00:00:00Z',\n",
       "   '2025-03-31T00:00:00Z']}]"
      ]
     },
     "execution_count": 33,
     "metadata": {},
     "output_type": "execute_result"
    }
   ],
   "execution_count": 33
  },
  {
   "metadata": {
    "ExecuteTime": {
     "end_time": "2025-05-31T15:26:59.926602Z",
     "start_time": "2025-05-31T15:26:59.897590Z"
    }
   },
   "cell_type": "code",
   "source": [
    "client = genai.Client(api_key=GEMINI_API_KEY)\n",
    "client"
   ],
   "id": "3d69f699cde74131",
   "outputs": [
    {
     "data": {
      "text/plain": [
       "<google.genai.client.Client at 0x7df82350f980>"
      ]
     },
     "execution_count": 3,
     "metadata": {},
     "output_type": "execute_result"
    }
   ],
   "execution_count": 3
  },
  {
   "metadata": {
    "ExecuteTime": {
     "end_time": "2025-05-31T15:27:45.832889Z",
     "start_time": "2025-05-31T15:27:42.611069Z"
    }
   },
   "cell_type": "code",
   "source": [
    "response = client.models.generate_content(\n",
    "    model='gemini-2.0-flash-001', contents='Why is the sky blue?'\n",
    ")\n",
    "print(response.text)"
   ],
   "id": "1de14ef512c30361",
   "outputs": [
    {
     "name": "stdout",
     "output_type": "stream",
     "text": [
      "The sky is blue due to a phenomenon called **Rayleigh scattering**. Here's a breakdown of why:\n",
      "\n",
      "*   **Sunlight and its Colors:** Sunlight appears white to our eyes, but it's actually composed of all the colors of the rainbow (red, orange, yellow, green, blue, indigo, violet).\n",
      "\n",
      "*   **Entering the Atmosphere:** When sunlight enters the Earth's atmosphere, it collides with air molecules (mostly nitrogen and oxygen).\n",
      "\n",
      "*   **Scattering:** This collision causes the light to scatter in different directions.\n",
      "\n",
      "*   **Rayleigh Scattering and Wavelength:** The amount of scattering depends on the wavelength of the light. Shorter wavelengths (blue and violet light) are scattered much more strongly than longer wavelengths (red and orange light). This is Rayleigh scattering in action, which is inversely proportional to the fourth power of the wavelength.\n",
      "\n",
      "*   **Why Blue Dominates:** Violet light is scattered even more than blue light, but our eyes are more sensitive to blue light, and the sun emits slightly less violet light. Consequently, we see the sky as predominantly blue.\n",
      "\n",
      "*   **Sunsets and Sunrises:** At sunrise and sunset, the sunlight has to travel through much more of the atmosphere to reach our eyes. During this longer journey, most of the blue light is scattered away, leaving the longer wavelengths (orange and red) to dominate. That's why sunsets and sunrises often appear reddish or orange.\n",
      "\n",
      "**In simpler terms:**\n",
      "\n",
      "Imagine throwing a ball (sunlight) at a bunch of small objects (air molecules). If you throw a small ball (blue light), it will bounce around a lot more than if you throw a large ball (red light). The small balls (blue light) get scattered all over the place, making the sky appear blue.\n",
      "\n",
      "**Important Points:**\n",
      "\n",
      "*   The atmosphere needs to be there for this to happen. That's why the sky appears black on the Moon, which has no atmosphere.\n",
      "*   If the Earth's atmosphere were composed of different molecules, the sky could be a different color.\n",
      "*   Particle size affects the type of scattering. If particles in the atmosphere are larger (like water droplets in clouds), they scatter all colors more or less equally, making the sky appear white. This is called Mie scattering.\n",
      "\n",
      "\n"
     ]
    }
   ],
   "execution_count": 4
  },
  {
   "metadata": {
    "ExecuteTime": {
     "end_time": "2025-05-31T16:52:36.513632Z",
     "start_time": "2025-05-31T16:52:36.330841Z"
    }
   },
   "cell_type": "code",
   "source": "len(jo_act)",
   "id": "737a4a244bb6d6fb",
   "outputs": [
    {
     "ename": "NameError",
     "evalue": "name 'jo_act' is not defined",
     "output_type": "error",
     "traceback": [
      "\u001B[31m---------------------------------------------------------------------------\u001B[39m",
      "\u001B[31mNameError\u001B[39m                                 Traceback (most recent call last)",
      "\u001B[36mCell\u001B[39m\u001B[36m \u001B[39m\u001B[32mIn[2]\u001B[39m\u001B[32m, line 1\u001B[39m\n\u001B[32m----> \u001B[39m\u001B[32m1\u001B[39m \u001B[38;5;28mlen\u001B[39m(jo_act)\n",
      "\u001B[31mNameError\u001B[39m: name 'jo_act' is not defined"
     ]
    }
   ],
   "execution_count": 2
  }
 ],
 "metadata": {
  "kernelspec": {
   "display_name": "Python 3",
   "language": "python",
   "name": "python3"
  },
  "language_info": {
   "codemirror_mode": {
    "name": "ipython",
    "version": 2
   },
   "file_extension": ".py",
   "mimetype": "text/x-python",
   "name": "python",
   "nbconvert_exporter": "python",
   "pygments_lexer": "ipython2",
   "version": "2.7.6"
  }
 },
 "nbformat": 4,
 "nbformat_minor": 5
}
